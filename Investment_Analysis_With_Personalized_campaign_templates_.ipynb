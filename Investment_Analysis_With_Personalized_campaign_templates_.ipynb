{
  "nbformat": 4,
  "nbformat_minor": 0,
  "metadata": {
    "colab": {
      "provenance": [],
      "authorship_tag": "ABX9TyNppZjvDwk97rXr+7gjIWi6",
      "include_colab_link": true
    },
    "kernelspec": {
      "name": "python3",
      "display_name": "Python 3"
    },
    "language_info": {
      "name": "python"
    }
  },
  "cells": [
    {
      "cell_type": "markdown",
      "metadata": {
        "id": "view-in-github",
        "colab_type": "text"
      },
      "source": [
        "<a href=\"https://colab.research.google.com/github/jsleweon11/Investment-Analysis-With-Personalized-campaign-templates/blob/main/Investment_Analysis_With_Personalized_campaign_templates_.ipynb\" target=\"_parent\"><img src=\"https://colab.research.google.com/assets/colab-badge.svg\" alt=\"Open In Colab\"/></a>"
      ]
    },
    {
      "cell_type": "code",
      "execution_count": 3,
      "metadata": {
        "colab": {
          "base_uri": "https://localhost:8080/",
          "height": 38
        },
        "id": "xqJwCdWvPKfF",
        "outputId": "b569f655-65e8-4b38-9fa4-9cd38bd09607"
      },
      "outputs": [
        {
          "output_type": "execute_result",
          "data": {
            "text/plain": [
              "'/content/Investment_Analysis_Script.py'"
            ],
            "application/vnd.google.colaboratory.intrinsic+json": {
              "type": "string"
            }
          },
          "metadata": {},
          "execution_count": 3
        }
      ],
      "source": [
        "# Creating the Python script with the provided and additional code along with documentation\n",
        "\n",
        "script_content = \"\"\"\n",
        "import pandas as pd\n",
        "\n",
        "# Load the CSV file\n",
        "file_path = '/content/90AuctionPotentialhigh_leads-3-16-24.csv'\n",
        "data = pd.read_csv(file_path)\n",
        "\n",
        "# Display the first few rows of the dataframe\n",
        "print(\"Initial data loaded:\")\n",
        "print(data.head())\n",
        "\n",
        "# Remove duplicate entries based on 'PropertyAddressFull', 'Defendant', and 'TelePhone'\n",
        "data_cleaned = data.drop_duplicates(subset=['PropertyAddressFull', 'Defendant', 'TelePhone'])\n",
        "print(\"Data after removing duplicates:\")\n",
        "print(data_cleaned.head())\n",
        "\n",
        "# Calculate necessary fields for analysis\n",
        "# - Estimated mortgage balance (EMB)\n",
        "# - After repair value (ARV)\n",
        "# - Max allowable offer (MAO)\n",
        "# - Estimated repairs\n",
        "\n",
        "# Assuming square footage based on beds and baths for estimation\n",
        "data_cleaned['EstimatedSqft'] = data_cleaned['Beds'] * data_cleaned['Baths'] * 150\n",
        "\n",
        "# Calculate Estimated Repairs\n",
        "data_cleaned['EstimatedRepairs'] = 30 * data_cleaned['EstimatedSqft']\n",
        "\n",
        "# Calculate After Repair Value (ARV)\n",
        "data_cleaned['ARV'] = data_cleaned['AVMValue']\n",
        "\n",
        "# Calculate Max Allowable Offer (MAO)\n",
        "data_cleaned['MAO'] = data_cleaned['ARV'] * 0.7 - data_cleaned['EstimatedRepairs']\n",
        "\n",
        "# Filter necessary columns for analysis\n",
        "analysis_columns = ['Defendant', 'TelePhone', 'PropertyAddressFull', 'PropertyCity', 'PropertyState', 'Beds', 'Baths', 'EstimatedSqft', 'TotalDebt', 'AVMValue', 'EstimatedRepairs', 'ARV', 'MAO']\n",
        "analysis_data = data_cleaned[analysis_columns]\n",
        "\n",
        "# Create a CSV file for downloading\n",
        "csv_file_path = '/mnt/data/Investment_Analysis.csv'\n",
        "analysis_data.to_csv(csv_file_path, index=False)\n",
        "\n",
        "print(f\"Analysis data exported to {csv_file_path}\")\n",
        "print(analysis_data.head())\n",
        "\n",
        "# Personalized 90-Day Nurturing SMS and Cold Call Campaign Templates\n",
        "\n",
        "sms_templates = [\n",
        "    {\n",
        "        \"day\": 1,\n",
        "        \"template\": \"Hi {Defendant}, this is [Your Name] from [Your Company]. We have reviewed your property at {PropertyAddressFull} and would love to discuss how we can help you with your real estate needs. Please call me at [Your Phone Number]. Looking forward to speaking with you!\"\n",
        "    },\n",
        "    {\n",
        "        \"day\": 7,\n",
        "        \"template\": \"Hi {Defendant}, hope you are doing well! Just wanted to follow up on my previous message about your property at {PropertyAddressFull}. We are very interested and would love to discuss potential offers. Please reach out at your earliest convenience. Thank you!\"\n",
        "    },\n",
        "    {\n",
        "        \"day\": 15,\n",
        "        \"template\": \"Hi {Defendant}, this is [Your Name] again. We specialize in creative financing solutions that could be very beneficial for your property at {PropertyAddressFull}. Let's talk about how we can maximize your property's value. Call me at [Your Phone Number] for more details.\"\n",
        "    },\n",
        "    {\n",
        "        \"day\": 30,\n",
        "        \"template\": \"Hi {Defendant}, just checking in to see if you had any thoughts on our previous messages about your property at {PropertyAddressFull}. We have some great ideas to share with you. Please call me at [Your Phone Number] when you have a moment. Thank you!\"\n",
        "    },\n",
        "    {\n",
        "        \"day\": 60,\n",
        "        \"template\": \"Hi {Defendant}, I wanted to let you know about a special offer we are running for properties like yours at {PropertyAddressFull}. We can discuss some very attractive financing options. Please reach out to me at [Your Phone Number] to learn more.\"\n",
        "    },\n",
        "    {\n",
        "        \"day\": 90,\n",
        "        \"template\": \"Hi {Defendant}, this is [Your Name]. I understand if now might not be the right time, but I wanted to make one last attempt to discuss your property at {PropertyAddressFull}. If you are still interested in exploring options, please call me at [Your Phone Number]. Thank you!\"\n",
        "    }\n",
        "]\n",
        "\n",
        "cold_call_templates = [\n",
        "    {\n",
        "        \"call_number\": 1,\n",
        "        \"template\": \"Hi {Defendant}, this is [Your Name] from [Your Company]. How are you today?\\nI'm calling because we've reviewed your property at {PropertyAddressFull} and we are very interested in discussing potential offers with you.\\nCould you tell me a bit more about your situation and what you are looking to achieve with your property?\"\n",
        "    },\n",
        "    {\n",
        "        \"call_number\": 2,\n",
        "        \"template\": \"Hi {Defendant}, this is [Your Name] from [Your Company]. We spoke last [mention last contact day]. Do you have a moment to talk?\\nI wanted to follow up on our conversation about your property at {PropertyAddressFull}. We have some exciting financing solutions that could be very beneficial for you.\\nWe specialize in creative financing, including wholesale, rent, and flip strategies that maximize your property's value. Can we set up a time to discuss these options in detail?\"\n",
        "    },\n",
        "    {\n",
        "        \"call_number\": 3,\n",
        "        \"template\": \"Hi {Defendant}, this is [Your Name] from [Your Company]. I hope you are doing well.\\nI'm reaching out one last time regarding your property at {PropertyAddressFull}. We believe there is great potential here and would love to help you explore your options.\\nIf you are still interested, please call me back at [Your Phone Number]. I'd be happy to assist you with any questions or provide more details about our offer.\"\n",
        "    }\n",
        "]\n",
        "\n",
        "print(\"SMS and Cold Call Campaign Templates:\")\n",
        "print(sms_templates)\n",
        "print(cold_call_templates)\n",
        "\"\"\"\n",
        "\n",
        "# Save the script content to a Python file\n",
        "script_file_path = '/content/Investment_Analysis_Script.py'\n",
        "with open(script_file_path, 'w') as file:\n",
        "    file.write(script_content)\n",
        "\n",
        "script_file_path\n"
      ]
    }
  ]
}